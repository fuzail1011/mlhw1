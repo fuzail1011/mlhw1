{
 "cells": [
  {
   "attachments": {},
   "cell_type": "markdown",
   "metadata": {},
   "source": [
    "AI - 1 : Design & analyze the application of Artificial Intelligence for Graph Theory\n",
    "concept"
   ]
  },
  {
   "cell_type": "code",
   "execution_count": 5,
   "metadata": {},
   "outputs": [],
   "source": [
    "class City:\n",
    "    def __init__(self, name):\n",
    "        self.name = name\n",
    "        self.connections = {}  # to store neighboring cities and distances\n",
    "    \n",
    "    def add_connection(self, city, distance):\n",
    "        self.connections[city] = distance\n",
    "\n",
    "class StateSpaceGraph:\n",
    "    def __init__(self):\n",
    "        self.cities = {}\n",
    "    \n",
    "    def add_city(self, city_name):\n",
    "        city = City(city_name)\n",
    "        self.cities[city_name] = city\n",
    "    \n",
    "    def add_connection(self, city1, city2, distance):\n",
    "        self.cities[city1].add_connection(self.cities[city2], distance)\n",
    "        self.cities[city2].add_connection(self.cities[city1], distance)\n",
    "    \n",
    "    def shortest_path(self, start_city, end_city):\n",
    "        distances = {city: float('inf') for city in self.cities}\n",
    "        distances[start_city] = 0\n",
    "        visited_cities = set()\n",
    "        unvisited_cities = set(self.cities.values())\n",
    "        \n",
    "        while unvisited_cities:\n",
    "            current_city = min(unvisited_cities, key=lambda city: distances[city.name])\n",
    "            unvisited_cities.remove(current_city)\n",
    "            visited_cities.add(current_city)\n",
    "            \n",
    "            for neighbor, distance in current_city.connections.items():\n",
    "                if neighbor in visited_cities:\n",
    "                    continue\n",
    "                new_distance = distances[current_city.name] + distance\n",
    "                if new_distance < distances[neighbor.name]:\n",
    "                    distances[neighbor.name] = new_distance\n",
    "        return distances[end_city]\n"
   ]
  },
  {
   "cell_type": "code",
   "execution_count": 6,
   "metadata": {},
   "outputs": [],
   "source": [
    "graph = StateSpaceGraph()\n",
    "graph.add_city('A')\n",
    "graph.add_city('B')\n",
    "graph.add_city('C')\n",
    "graph.add_city('D')\n",
    "graph.add_connection('A', 'B', 2)\n",
    "graph.add_connection('B', 'C', 3)\n",
    "graph.add_connection('C', 'D', 1)\n",
    "graph.add_connection('A', 'D', 5)"
   ]
  },
  {
   "cell_type": "code",
   "execution_count": 8,
   "metadata": {},
   "outputs": [
    {
     "name": "stdout",
     "output_type": "stream",
     "text": [
      "The shortest distance between the cities B and D is 4.\n"
     ]
    }
   ],
   "source": [
    "firstCity = input((f\"Enter the starting city: \"))\n",
    "secondCity = input((f\"Enter the destination city: \"))\n",
    "print(f\"The shortest distance between the cities {firstCity} and {secondCity} is {graph.shortest_path(firstCity, secondCity)}.\")"
   ]
  },
  {
   "attachments": {},
   "cell_type": "markdown",
   "metadata": {},
   "source": [
    "AI - 2 : For a given set of training data examples stored in a .CSV file, implement and\n",
    "demonstrate the Candidate-Elimination algorithm to output a description of the set\n",
    "of all hypotheses consistent."
   ]
  },
  {
   "cell_type": "code",
   "execution_count": 9,
   "metadata": {},
   "outputs": [
    {
     "data": {
      "text/html": [
       "<div>\n",
       "<style scoped>\n",
       "    .dataframe tbody tr th:only-of-type {\n",
       "        vertical-align: middle;\n",
       "    }\n",
       "\n",
       "    .dataframe tbody tr th {\n",
       "        vertical-align: top;\n",
       "    }\n",
       "\n",
       "    .dataframe thead th {\n",
       "        text-align: right;\n",
       "    }\n",
       "</style>\n",
       "<table border=\"1\" class=\"dataframe\">\n",
       "  <thead>\n",
       "    <tr style=\"text-align: right;\">\n",
       "      <th></th>\n",
       "      <th>Example</th>\n",
       "      <th>Sky</th>\n",
       "      <th>AirTemp</th>\n",
       "      <th>Humidity</th>\n",
       "      <th>Wind</th>\n",
       "      <th>Water</th>\n",
       "      <th>Forecast</th>\n",
       "      <th>EnjoySport</th>\n",
       "    </tr>\n",
       "  </thead>\n",
       "  <tbody>\n",
       "    <tr>\n",
       "      <th>0</th>\n",
       "      <td>1</td>\n",
       "      <td>Sunny</td>\n",
       "      <td>Warm</td>\n",
       "      <td>Normal</td>\n",
       "      <td>Strong</td>\n",
       "      <td>Warm</td>\n",
       "      <td>Same</td>\n",
       "      <td>Yes</td>\n",
       "    </tr>\n",
       "    <tr>\n",
       "      <th>1</th>\n",
       "      <td>2</td>\n",
       "      <td>Sunny</td>\n",
       "      <td>Warm</td>\n",
       "      <td>High</td>\n",
       "      <td>Strong</td>\n",
       "      <td>Warm</td>\n",
       "      <td>Same</td>\n",
       "      <td>Yes</td>\n",
       "    </tr>\n",
       "    <tr>\n",
       "      <th>2</th>\n",
       "      <td>3</td>\n",
       "      <td>Rain</td>\n",
       "      <td>Cold</td>\n",
       "      <td>High</td>\n",
       "      <td>Strong</td>\n",
       "      <td>Warm</td>\n",
       "      <td>Change</td>\n",
       "      <td>No</td>\n",
       "    </tr>\n",
       "    <tr>\n",
       "      <th>3</th>\n",
       "      <td>4</td>\n",
       "      <td>Sunny</td>\n",
       "      <td>Warm</td>\n",
       "      <td>High</td>\n",
       "      <td>Strong</td>\n",
       "      <td>Cool</td>\n",
       "      <td>Change</td>\n",
       "      <td>Yes</td>\n",
       "    </tr>\n",
       "  </tbody>\n",
       "</table>\n",
       "</div>"
      ],
      "text/plain": [
       "   Example    Sky AirTemp Humidity    Wind Water Forecast EnjoySport\n",
       "0        1  Sunny    Warm   Normal  Strong  Warm     Same        Yes\n",
       "1        2  Sunny    Warm     High  Strong  Warm     Same        Yes\n",
       "2        3   Rain    Cold     High  Strong  Warm   Change         No\n",
       "3        4  Sunny    Warm     High  Strong  Cool   Change        Yes"
      ]
     },
     "execution_count": 9,
     "metadata": {},
     "output_type": "execute_result"
    }
   ],
   "source": [
    "import pandas as pd\n",
    "df = pd.read_csv(r\"C:\\Users\\Fuzail\\Downloads\\CEDS12.csv\",header=0)\n",
    "dataset = df.values.tolist()\n",
    "df"
   ]
  },
  {
   "cell_type": "code",
   "execution_count": 10,
   "metadata": {},
   "outputs": [
    {
     "name": "stdout",
     "output_type": "stream",
     "text": [
      "The initial value of s is :\n",
      " [1, 'Sunny', 'Warm', 'Normal', 'Strong', 'Warm', 'Same']\n",
      "The initial value of g is :\n",
      " [['?', '?', '?', '?', '?', '?', '?'], ['?', '?', '?', '?', '?', '?', '?'], ['?', '?', '?', '?', '?', '?', '?'], ['?', '?', '?', '?', '?', '?', '?'], ['?', '?', '?', '?', '?', '?', '?'], ['?', '?', '?', '?', '?', '?', '?'], ['?', '?', '?', '?', '?', '?', '?']]\n",
      "\n",
      "After 1 th insatnce\n",
      "Specific boundary is : [1, 'Sunny', 'Warm', 'Normal', 'Strong', 'Warm', 'Same']\n",
      "General boundary is : [['?', '?', '?', '?', '?', '?', '?'], ['?', '?', '?', '?', '?', '?', '?'], ['?', '?', '?', '?', '?', '?', '?'], ['?', '?', '?', '?', '?', '?', '?'], ['?', '?', '?', '?', '?', '?', '?'], ['?', '?', '?', '?', '?', '?', '?'], ['?', '?', '?', '?', '?', '?', '?']]\n",
      "\n",
      "After 2 th insatnce\n",
      "Specific boundary is : ['?', 'Sunny', 'Warm', '?', 'Strong', 'Warm', 'Same']\n",
      "General boundary is : [['?', '?', '?', '?', '?', '?', '?'], ['?', '?', '?', '?', '?', '?', '?'], ['?', '?', '?', '?', '?', '?', '?'], ['?', '?', '?', '?', '?', '?', '?'], ['?', '?', '?', '?', '?', '?', '?'], ['?', '?', '?', '?', '?', '?', '?'], ['?', '?', '?', '?', '?', '?', '?']]\n",
      "\n",
      "After 3 th insatnce\n",
      "Specific boundary is : ['?', 'Sunny', 'Warm', '?', 'Strong', 'Warm', 'Same']\n",
      "General boundary is : [['?', '?', '?', '?', '?', '?', '?'], ['?', 'Sunny', '?', '?', '?', '?', '?'], ['?', '?', 'Warm', '?', '?', '?', '?'], ['?', '?', '?', '?', '?', '?', '?'], ['?', '?', '?', '?', '?', '?', '?'], ['?', '?', '?', '?', '?', '?', '?'], ['?', '?', '?', '?', '?', '?', 'Same']]\n",
      "\n",
      "After 4 th insatnce\n",
      "Specific boundary is : ['?', 'Sunny', 'Warm', '?', 'Strong', '?', '?']\n",
      "General boundary is : [['?', '?', '?', '?', '?', '?', '?'], ['?', 'Sunny', '?', '?', '?', '?', '?'], ['?', '?', 'Warm', '?', '?', '?', '?'], ['?', '?', '?', '?', '?', '?', '?'], ['?', '?', '?', '?', '?', '?', '?'], ['?', '?', '?', '?', '?', '?', '?'], ['?', '?', '?', '?', '?', '?', '?']]\n",
      "\n",
      "Final specific hypothesis:\n",
      " ['?', 'Sunny', 'Warm', '?', 'Strong', '?', '?']\n",
      "\n",
      "Final general hypothesis:\n",
      " [['?', '?', '?', '?', '?', '?', '?'], ['?', 'Sunny', '?', '?', '?', '?', '?'], ['?', '?', 'Warm', '?', '?', '?', '?'], ['?', '?', '?', '?', '?', '?', '?'], ['?', '?', '?', '?', '?', '?', '?'], ['?', '?', '?', '?', '?', '?', '?'], ['?', '?', '?', '?', '?', '?', '?']]\n"
     ]
    }
   ],
   "source": [
    "s=dataset[0][0:-1]\n",
    "print(\"The initial value of s is :\\n\",s)\n",
    "\n",
    "#initialize the general hypothesis\n",
    "g=[['?' for i in range(len(s))] for j in range(len(s))]\n",
    "print(\"The initial value of g is :\\n\",g)\n",
    "\n",
    "for row in dataset:\n",
    "    if row[-1]==\"Yes\":\n",
    "        for j in range(len(s)):\n",
    "            if row[j]!=s[j]:\n",
    "                s[j]='?'\n",
    "                g[j][j]='?'\n",
    "    elif row[-1]==\"No\":\n",
    "        for j in range(len(s)):\n",
    "            if row[j]!=s[j]:\n",
    "                g[j][j]=s[j]\n",
    "            else:\n",
    "                g[j][j]=\"?\"\n",
    "    print(\"\\nAfter\",dataset.index(row)+1,\"th insatnce\")\n",
    "        \n",
    "    print(\"Specific boundary is :\",s)\n",
    "    print(\"General boundary is :\",g)\n",
    "\n",
    "print(\"\\nFinal specific hypothesis:\\n\",s)\n",
    "print(\"\\nFinal general hypothesis:\\n\",g)"
   ]
  },
  {
   "attachments": {},
   "cell_type": "markdown",
   "metadata": {},
   "source": [
    "AI - 3 : Write a python program to remove punctuations from the given string"
   ]
  },
  {
   "cell_type": "code",
   "execution_count": 3,
   "metadata": {},
   "outputs": [
    {
     "name": "stdout",
     "output_type": "stream",
     "text": [
      "Hello, how are you? it is a, sunday. tomorrow is a, monday\n",
      "Paragraph without punctuation: Hello how are you it is a sunday tomorrow is a monday\n",
      "Number of spaces: 11\n",
      "Total number of characters: 42\n"
     ]
    }
   ],
   "source": [
    "import string\n",
    "paragraph = input(\"Enter a paragraph: \")\n",
    "print(paragraph)\n",
    "count = 0\n",
    "paragraph = paragraph.translate(str.maketrans(\"\", \"\", string.punctuation))\n",
    "num_spaces = paragraph.count(\" \")\n",
    "for i in range(0, len(paragraph)):  \n",
    "    if(paragraph[i] != ' '):  \n",
    "        count = count + 1; \n",
    "print(f\"Paragraph without punctuation: {paragraph}\")\n",
    "print(f\"Number of spaces: {num_spaces}\")\n",
    "print(f\"Total number of characters: \" + str(count))"
   ]
  },
  {
   "cell_type": "code",
   "execution_count": 4,
   "metadata": {},
   "outputs": [
    {
     "name": "stdout",
     "output_type": "stream",
     "text": [
      "String after character filter : Hello how are you it is a sunday tomorrow is a monday\n"
     ]
    }
   ],
   "source": [
    "cr = input(\"Enter character to be replaced : \")\n",
    "cre = input(\"Enter replacement character : \")\n",
    "for c in paragraph:\n",
    "    if c == cr:\n",
    "        paragraph = paragraph.replace(c,cre)\n",
    "        \n",
    "print(\"String after character filter : \"+paragraph)"
   ]
  },
  {
   "attachments": {},
   "cell_type": "markdown",
   "metadata": {},
   "source": [
    "AI - 4 : Implement naïve bayes theorem to classify the English text"
   ]
  },
  {
   "cell_type": "code",
   "execution_count": 23,
   "metadata": {},
   "outputs": [],
   "source": [
    "from sklearn.feature_extraction.text import CountVectorizer\n",
    "from sklearn.naive_bayes import MultinomialNB"
   ]
  },
  {
   "cell_type": "code",
   "execution_count": 24,
   "metadata": {},
   "outputs": [],
   "source": [
    "X_train = ['I love playing sports', 'Politics is my passion', 'Sports are fun', 'Politics is boring']\n",
    "y_train = ['sports', 'politics', 'sports', 'politics']\n",
    "vectorizer = CountVectorizer(stop_words='english')\n",
    "X_train_counts = vectorizer.fit_transform(X_train)"
   ]
  },
  {
   "cell_type": "code",
   "execution_count": 25,
   "metadata": {},
   "outputs": [
    {
     "data": {
      "text/html": [
       "<style>#sk-container-id-3 {color: black;background-color: white;}#sk-container-id-3 pre{padding: 0;}#sk-container-id-3 div.sk-toggleable {background-color: white;}#sk-container-id-3 label.sk-toggleable__label {cursor: pointer;display: block;width: 100%;margin-bottom: 0;padding: 0.3em;box-sizing: border-box;text-align: center;}#sk-container-id-3 label.sk-toggleable__label-arrow:before {content: \"▸\";float: left;margin-right: 0.25em;color: #696969;}#sk-container-id-3 label.sk-toggleable__label-arrow:hover:before {color: black;}#sk-container-id-3 div.sk-estimator:hover label.sk-toggleable__label-arrow:before {color: black;}#sk-container-id-3 div.sk-toggleable__content {max-height: 0;max-width: 0;overflow: hidden;text-align: left;background-color: #f0f8ff;}#sk-container-id-3 div.sk-toggleable__content pre {margin: 0.2em;color: black;border-radius: 0.25em;background-color: #f0f8ff;}#sk-container-id-3 input.sk-toggleable__control:checked~div.sk-toggleable__content {max-height: 200px;max-width: 100%;overflow: auto;}#sk-container-id-3 input.sk-toggleable__control:checked~label.sk-toggleable__label-arrow:before {content: \"▾\";}#sk-container-id-3 div.sk-estimator input.sk-toggleable__control:checked~label.sk-toggleable__label {background-color: #d4ebff;}#sk-container-id-3 div.sk-label input.sk-toggleable__control:checked~label.sk-toggleable__label {background-color: #d4ebff;}#sk-container-id-3 input.sk-hidden--visually {border: 0;clip: rect(1px 1px 1px 1px);clip: rect(1px, 1px, 1px, 1px);height: 1px;margin: -1px;overflow: hidden;padding: 0;position: absolute;width: 1px;}#sk-container-id-3 div.sk-estimator {font-family: monospace;background-color: #f0f8ff;border: 1px dotted black;border-radius: 0.25em;box-sizing: border-box;margin-bottom: 0.5em;}#sk-container-id-3 div.sk-estimator:hover {background-color: #d4ebff;}#sk-container-id-3 div.sk-parallel-item::after {content: \"\";width: 100%;border-bottom: 1px solid gray;flex-grow: 1;}#sk-container-id-3 div.sk-label:hover label.sk-toggleable__label {background-color: #d4ebff;}#sk-container-id-3 div.sk-serial::before {content: \"\";position: absolute;border-left: 1px solid gray;box-sizing: border-box;top: 0;bottom: 0;left: 50%;z-index: 0;}#sk-container-id-3 div.sk-serial {display: flex;flex-direction: column;align-items: center;background-color: white;padding-right: 0.2em;padding-left: 0.2em;position: relative;}#sk-container-id-3 div.sk-item {position: relative;z-index: 1;}#sk-container-id-3 div.sk-parallel {display: flex;align-items: stretch;justify-content: center;background-color: white;position: relative;}#sk-container-id-3 div.sk-item::before, #sk-container-id-3 div.sk-parallel-item::before {content: \"\";position: absolute;border-left: 1px solid gray;box-sizing: border-box;top: 0;bottom: 0;left: 50%;z-index: -1;}#sk-container-id-3 div.sk-parallel-item {display: flex;flex-direction: column;z-index: 1;position: relative;background-color: white;}#sk-container-id-3 div.sk-parallel-item:first-child::after {align-self: flex-end;width: 50%;}#sk-container-id-3 div.sk-parallel-item:last-child::after {align-self: flex-start;width: 50%;}#sk-container-id-3 div.sk-parallel-item:only-child::after {width: 0;}#sk-container-id-3 div.sk-dashed-wrapped {border: 1px dashed gray;margin: 0 0.4em 0.5em 0.4em;box-sizing: border-box;padding-bottom: 0.4em;background-color: white;}#sk-container-id-3 div.sk-label label {font-family: monospace;font-weight: bold;display: inline-block;line-height: 1.2em;}#sk-container-id-3 div.sk-label-container {text-align: center;}#sk-container-id-3 div.sk-container {/* jupyter's `normalize.less` sets `[hidden] { display: none; }` but bootstrap.min.css set `[hidden] { display: none !important; }` so we also need the `!important` here to be able to override the default hidden behavior on the sphinx rendered scikit-learn.org. See: https://github.com/scikit-learn/scikit-learn/issues/21755 */display: inline-block !important;position: relative;}#sk-container-id-3 div.sk-text-repr-fallback {display: none;}</style><div id=\"sk-container-id-3\" class=\"sk-top-container\"><div class=\"sk-text-repr-fallback\"><pre>MultinomialNB()</pre><b>In a Jupyter environment, please rerun this cell to show the HTML representation or trust the notebook. <br />On GitHub, the HTML representation is unable to render, please try loading this page with nbviewer.org.</b></div><div class=\"sk-container\" hidden><div class=\"sk-item\"><div class=\"sk-estimator sk-toggleable\"><input class=\"sk-toggleable__control sk-hidden--visually\" id=\"sk-estimator-id-3\" type=\"checkbox\" checked><label for=\"sk-estimator-id-3\" class=\"sk-toggleable__label sk-toggleable__label-arrow\">MultinomialNB</label><div class=\"sk-toggleable__content\"><pre>MultinomialNB()</pre></div></div></div></div></div>"
      ],
      "text/plain": [
       "MultinomialNB()"
      ]
     },
     "execution_count": 25,
     "metadata": {},
     "output_type": "execute_result"
    }
   ],
   "source": [
    "model = MultinomialNB()\n",
    "model.fit(X_train_counts, y_train)"
   ]
  },
  {
   "cell_type": "code",
   "execution_count": 28,
   "metadata": {},
   "outputs": [],
   "source": [
    "X_test = ['I enjoy watching sports on TV', 'Politics is important for our country', 'i love politics']\n",
    "X_test_counts = vectorizer.transform(X_test)\n",
    "y_pred = model.predict(X_test_counts)"
   ]
  },
  {
   "cell_type": "code",
   "execution_count": 29,
   "metadata": {},
   "outputs": [
    {
     "name": "stdout",
     "output_type": "stream",
     "text": [
      "['I enjoy watching sports on TV', 'sports']\n",
      "['Politics is important for our country', 'politics']\n",
      "['i love politics', 'politics']\n"
     ]
    }
   ],
   "source": [
    "output = []\n",
    "for index, i in enumerate(range(len(X_test))):\n",
    "    output.append([X_test[i], y_pred[i]])\n",
    "    print(output[index])"
   ]
  },
  {
   "attachments": {},
   "cell_type": "markdown",
   "metadata": {},
   "source": [
    "AI - 5 : Implement the finite words classification system using back propagation\n",
    "algorithm"
   ]
  },
  {
   "cell_type": "code",
   "execution_count": 24,
   "metadata": {},
   "outputs": [],
   "source": [
    "import pandas as pd\n",
    "from sklearn.model_selection import train_test_split\n",
    "from sklearn.feature_extraction.text import CountVectorizer\n",
    "from sklearn.neural_network import MLPClassifier\n",
    "from sklearn.metrics import accuracy_score, confusion_matrix, precision_score, recall_score"
   ]
  },
  {
   "cell_type": "code",
   "execution_count": 25,
   "metadata": {},
   "outputs": [
    {
     "name": "stdout",
     "output_type": "stream",
     "text": [
      "The Total instances in the Dataset:  18\n"
     ]
    }
   ],
   "source": [
    "df = pd.read_csv('C:/Users/Fuzail/Desktop/6th Sem/AI/Lab/AI-2 5 Finite words/statements.csv', names=['Message', 'Label'])\n",
    "print(\"The Total instances in the Dataset: \", df.shape[0])\n",
    "df['labelnum'] = df.Label.map({'pos': 1, 'neg': 0})"
   ]
  },
  {
   "cell_type": "code",
   "execution_count": 26,
   "metadata": {},
   "outputs": [],
   "source": [
    "# place the data in X and Y Vectors\n",
    "X = df[\"Message\"]\n",
    "Y = df.labelnum"
   ]
  },
  {
   "cell_type": "code",
   "execution_count": 27,
   "metadata": {},
   "outputs": [],
   "source": [
    "# to split the data into train se and test set\n",
    "Xtrain, Xtest, Ytrain, Ytest = train_test_split(X, Y)\n",
    "vect = CountVectorizer()\n",
    "Xtrain_dims = vect.fit_transform(Xtrain)\n",
    "Xtest_dims = vect.transform(Xtest)\n",
    "df = pd.DataFrame(Xtrain_dims.toarray(),columns=vect.get_feature_names_out())\n",
    "clf = MLPClassifier(solver='lbfgs', alpha=1e-5,hidden_layer_sizes=(5, 2), random_state=1)"
   ]
  },
  {
   "cell_type": "code",
   "execution_count": 28,
   "metadata": {},
   "outputs": [
    {
     "data": {
      "text/html": [
       "<style>#sk-container-id-3 {color: black;background-color: white;}#sk-container-id-3 pre{padding: 0;}#sk-container-id-3 div.sk-toggleable {background-color: white;}#sk-container-id-3 label.sk-toggleable__label {cursor: pointer;display: block;width: 100%;margin-bottom: 0;padding: 0.3em;box-sizing: border-box;text-align: center;}#sk-container-id-3 label.sk-toggleable__label-arrow:before {content: \"▸\";float: left;margin-right: 0.25em;color: #696969;}#sk-container-id-3 label.sk-toggleable__label-arrow:hover:before {color: black;}#sk-container-id-3 div.sk-estimator:hover label.sk-toggleable__label-arrow:before {color: black;}#sk-container-id-3 div.sk-toggleable__content {max-height: 0;max-width: 0;overflow: hidden;text-align: left;background-color: #f0f8ff;}#sk-container-id-3 div.sk-toggleable__content pre {margin: 0.2em;color: black;border-radius: 0.25em;background-color: #f0f8ff;}#sk-container-id-3 input.sk-toggleable__control:checked~div.sk-toggleable__content {max-height: 200px;max-width: 100%;overflow: auto;}#sk-container-id-3 input.sk-toggleable__control:checked~label.sk-toggleable__label-arrow:before {content: \"▾\";}#sk-container-id-3 div.sk-estimator input.sk-toggleable__control:checked~label.sk-toggleable__label {background-color: #d4ebff;}#sk-container-id-3 div.sk-label input.sk-toggleable__control:checked~label.sk-toggleable__label {background-color: #d4ebff;}#sk-container-id-3 input.sk-hidden--visually {border: 0;clip: rect(1px 1px 1px 1px);clip: rect(1px, 1px, 1px, 1px);height: 1px;margin: -1px;overflow: hidden;padding: 0;position: absolute;width: 1px;}#sk-container-id-3 div.sk-estimator {font-family: monospace;background-color: #f0f8ff;border: 1px dotted black;border-radius: 0.25em;box-sizing: border-box;margin-bottom: 0.5em;}#sk-container-id-3 div.sk-estimator:hover {background-color: #d4ebff;}#sk-container-id-3 div.sk-parallel-item::after {content: \"\";width: 100%;border-bottom: 1px solid gray;flex-grow: 1;}#sk-container-id-3 div.sk-label:hover label.sk-toggleable__label {background-color: #d4ebff;}#sk-container-id-3 div.sk-serial::before {content: \"\";position: absolute;border-left: 1px solid gray;box-sizing: border-box;top: 0;bottom: 0;left: 50%;z-index: 0;}#sk-container-id-3 div.sk-serial {display: flex;flex-direction: column;align-items: center;background-color: white;padding-right: 0.2em;padding-left: 0.2em;position: relative;}#sk-container-id-3 div.sk-item {position: relative;z-index: 1;}#sk-container-id-3 div.sk-parallel {display: flex;align-items: stretch;justify-content: center;background-color: white;position: relative;}#sk-container-id-3 div.sk-item::before, #sk-container-id-3 div.sk-parallel-item::before {content: \"\";position: absolute;border-left: 1px solid gray;box-sizing: border-box;top: 0;bottom: 0;left: 50%;z-index: -1;}#sk-container-id-3 div.sk-parallel-item {display: flex;flex-direction: column;z-index: 1;position: relative;background-color: white;}#sk-container-id-3 div.sk-parallel-item:first-child::after {align-self: flex-end;width: 50%;}#sk-container-id-3 div.sk-parallel-item:last-child::after {align-self: flex-start;width: 50%;}#sk-container-id-3 div.sk-parallel-item:only-child::after {width: 0;}#sk-container-id-3 div.sk-dashed-wrapped {border: 1px dashed gray;margin: 0 0.4em 0.5em 0.4em;box-sizing: border-box;padding-bottom: 0.4em;background-color: white;}#sk-container-id-3 div.sk-label label {font-family: monospace;font-weight: bold;display: inline-block;line-height: 1.2em;}#sk-container-id-3 div.sk-label-container {text-align: center;}#sk-container-id-3 div.sk-container {/* jupyter's `normalize.less` sets `[hidden] { display: none; }` but bootstrap.min.css set `[hidden] { display: none !important; }` so we also need the `!important` here to be able to override the default hidden behavior on the sphinx rendered scikit-learn.org. See: https://github.com/scikit-learn/scikit-learn/issues/21755 */display: inline-block !important;position: relative;}#sk-container-id-3 div.sk-text-repr-fallback {display: none;}</style><div id=\"sk-container-id-3\" class=\"sk-top-container\"><div class=\"sk-text-repr-fallback\"><pre>MLPClassifier(alpha=1e-05, hidden_layer_sizes=(5, 2), random_state=1,\n",
       "              solver=&#x27;lbfgs&#x27;)</pre><b>In a Jupyter environment, please rerun this cell to show the HTML representation or trust the notebook. <br />On GitHub, the HTML representation is unable to render, please try loading this page with nbviewer.org.</b></div><div class=\"sk-container\" hidden><div class=\"sk-item\"><div class=\"sk-estimator sk-toggleable\"><input class=\"sk-toggleable__control sk-hidden--visually\" id=\"sk-estimator-id-3\" type=\"checkbox\" checked><label for=\"sk-estimator-id-3\" class=\"sk-toggleable__label sk-toggleable__label-arrow\">MLPClassifier</label><div class=\"sk-toggleable__content\"><pre>MLPClassifier(alpha=1e-05, hidden_layer_sizes=(5, 2), random_state=1,\n",
       "              solver=&#x27;lbfgs&#x27;)</pre></div></div></div></div></div>"
      ],
      "text/plain": [
       "MLPClassifier(alpha=1e-05, hidden_layer_sizes=(5, 2), random_state=1,\n",
       "              solver='lbfgs')"
      ]
     },
     "execution_count": 28,
     "metadata": {},
     "output_type": "execute_result"
    }
   ],
   "source": [
    "#to fit the train data into model\n",
    "clf.fit(Xtrain_dims, Ytrain)"
   ]
  },
  {
   "cell_type": "code",
   "execution_count": 29,
   "metadata": {},
   "outputs": [
    {
     "name": "stdout",
     "output_type": "stream",
     "text": [
      "******** Accuracy Metrics *********\n",
      "Accuracy :  0.4\n",
      "Recall :  0.6666666666666666\n",
      "Precision :  0.5\n",
      "Confusion Matrix : \n",
      " [[0 2]\n",
      " [1 2]]\n"
     ]
    }
   ],
   "source": [
    "# to predict the test data\n",
    "prediction = clf.predict(Xtest_dims)\n",
    "print('******** Accuracy Metrics *********')\n",
    "print('Accuracy : ', accuracy_score(Ytest, prediction)) \n",
    "print('Recall : ', recall_score(Ytest, prediction)) \n",
    "print('Precision : ',precision_score(Ytest, prediction))\n",
    "print('Confusion Matrix : \\n', confusion_matrix(Ytest, prediction))"
   ]
  },
  {
   "cell_type": "code",
   "execution_count": 31,
   "metadata": {},
   "outputs": [
    {
     "name": "stdout",
     "output_type": "stream",
     "text": [
      "Statement is Negative\n"
     ]
    }
   ],
   "source": [
    "# to predict the input statement\n",
    "test_stmt = [input(\"Enter any statement to predict :\")]\n",
    "test_dims = vect.transform(test_stmt)\n",
    "pred = clf.predict(test_dims)\n",
    "for stmt,lbl in zip(test_stmt,pred):    \n",
    "    if lbl == 1:\n",
    "        print(\"Statement is Positive\")\n",
    "    else:\n",
    "        print(\"Statement is Negative\")"
   ]
  },
  {
   "attachments": {},
   "cell_type": "markdown",
   "metadata": {},
   "source": [
    "AI - 6 : “NLP - Sentiment Analysis - Restaurant Reviews”"
   ]
  },
  {
   "cell_type": "code",
   "execution_count": 15,
   "metadata": {},
   "outputs": [
    {
     "name": "stderr",
     "output_type": "stream",
     "text": [
      "[nltk_data] Error loading stopwords: <urlopen error [Errno 11001]\n",
      "[nltk_data]     getaddrinfo failed>\n"
     ]
    },
    {
     "data": {
      "text/plain": [
       "False"
      ]
     },
     "execution_count": 15,
     "metadata": {},
     "output_type": "execute_result"
    }
   ],
   "source": [
    "import numpy as np\n",
    "import pandas as pd\n",
    "import nltk\n",
    "nltk.download('stopwords')"
   ]
  },
  {
   "cell_type": "code",
   "execution_count": 16,
   "metadata": {},
   "outputs": [
    {
     "data": {
      "text/html": [
       "<div>\n",
       "<style scoped>\n",
       "    .dataframe tbody tr th:only-of-type {\n",
       "        vertical-align: middle;\n",
       "    }\n",
       "\n",
       "    .dataframe tbody tr th {\n",
       "        vertical-align: top;\n",
       "    }\n",
       "\n",
       "    .dataframe thead th {\n",
       "        text-align: right;\n",
       "    }\n",
       "</style>\n",
       "<table border=\"1\" class=\"dataframe\">\n",
       "  <thead>\n",
       "    <tr style=\"text-align: right;\">\n",
       "      <th></th>\n",
       "      <th>Review</th>\n",
       "      <th>Liked</th>\n",
       "    </tr>\n",
       "  </thead>\n",
       "  <tbody>\n",
       "    <tr>\n",
       "      <th>0</th>\n",
       "      <td>Wow... Loved this place.</td>\n",
       "      <td>1</td>\n",
       "    </tr>\n",
       "    <tr>\n",
       "      <th>1</th>\n",
       "      <td>Crust is not good.</td>\n",
       "      <td>0</td>\n",
       "    </tr>\n",
       "    <tr>\n",
       "      <th>2</th>\n",
       "      <td>Not tasty and the texture was just nasty.</td>\n",
       "      <td>0</td>\n",
       "    </tr>\n",
       "    <tr>\n",
       "      <th>3</th>\n",
       "      <td>Stopped by during the late May bank holiday of...</td>\n",
       "      <td>1</td>\n",
       "    </tr>\n",
       "    <tr>\n",
       "      <th>4</th>\n",
       "      <td>The selection on the menu was great and so wer...</td>\n",
       "      <td>1</td>\n",
       "    </tr>\n",
       "    <tr>\n",
       "      <th>...</th>\n",
       "      <td>...</td>\n",
       "      <td>...</td>\n",
       "    </tr>\n",
       "    <tr>\n",
       "      <th>995</th>\n",
       "      <td>I think food should have flavor and texture an...</td>\n",
       "      <td>0</td>\n",
       "    </tr>\n",
       "    <tr>\n",
       "      <th>996</th>\n",
       "      <td>Appetite instantly gone.</td>\n",
       "      <td>0</td>\n",
       "    </tr>\n",
       "    <tr>\n",
       "      <th>997</th>\n",
       "      <td>Overall I was not impressed and would not go b...</td>\n",
       "      <td>0</td>\n",
       "    </tr>\n",
       "    <tr>\n",
       "      <th>998</th>\n",
       "      <td>The whole experience was underwhelming, and I ...</td>\n",
       "      <td>0</td>\n",
       "    </tr>\n",
       "    <tr>\n",
       "      <th>999</th>\n",
       "      <td>Then, as if I hadn't wasted enough of my life ...</td>\n",
       "      <td>0</td>\n",
       "    </tr>\n",
       "  </tbody>\n",
       "</table>\n",
       "<p>1000 rows × 2 columns</p>\n",
       "</div>"
      ],
      "text/plain": [
       "                                                Review  Liked\n",
       "0                             Wow... Loved this place.      1\n",
       "1                                   Crust is not good.      0\n",
       "2            Not tasty and the texture was just nasty.      0\n",
       "3    Stopped by during the late May bank holiday of...      1\n",
       "4    The selection on the menu was great and so wer...      1\n",
       "..                                                 ...    ...\n",
       "995  I think food should have flavor and texture an...      0\n",
       "996                           Appetite instantly gone.      0\n",
       "997  Overall I was not impressed and would not go b...      0\n",
       "998  The whole experience was underwhelming, and I ...      0\n",
       "999  Then, as if I hadn't wasted enough of my life ...      0\n",
       "\n",
       "[1000 rows x 2 columns]"
      ]
     },
     "execution_count": 16,
     "metadata": {},
     "output_type": "execute_result"
    }
   ],
   "source": [
    "df = pd.read_csv (r'C:\\Users\\Fuzail\\Downloads\\Restaurant_Reviews.tsv', delimiter='\\t' )\n",
    "df"
   ]
  },
  {
   "cell_type": "code",
   "execution_count": 17,
   "metadata": {},
   "outputs": [],
   "source": [
    "import re\n",
    "from nltk.corpus import stopwords\n",
    "from nltk.stem.porter import PorterStemmer\n",
    "corpus = []\n",
    "for i in range(0, 1000):\n",
    "    review = re.sub('[^a-zA-Z]', ' ', df['Review'][i])\n",
    "    review = review.lower()\n",
    "    review = review.split()\n",
    "    ps = PorterStemmer()\n",
    "    review = [ps.stem(word) for word in review if not word in set(stopwords.words('english'))]\n",
    "    review = ' '.join(review)\n",
    "    corpus.append(review)"
   ]
  },
  {
   "cell_type": "code",
   "execution_count": 18,
   "metadata": {},
   "outputs": [],
   "source": [
    "# Creating the Bag of Words model using CountVectorizer\n",
    "\n",
    "from sklearn.feature_extraction.text import CountVectorizer\n",
    "cv = CountVectorizer(max_features = 1500)\n",
    "X = cv.fit_transform(corpus).toarray()\n",
    "y = df.iloc[:, 1].values"
   ]
  },
  {
   "cell_type": "code",
   "execution_count": 19,
   "metadata": {},
   "outputs": [
    {
     "name": "stdout",
     "output_type": "stream",
     "text": [
      "Confusion Matrix:\n",
      " [[119  33]\n",
      " [ 34 114]]\n",
      "\n",
      "\n",
      "Accuracy is  77.67 %\n",
      "Precision is  0.78\n",
      "Recall is  0.77\n"
     ]
    }
   ],
   "source": [
    "# Importing libraries\n",
    "from sklearn.model_selection import train_test_split\n",
    "from sklearn.naive_bayes import MultinomialNB\n",
    "X_train, X_test, y_train, y_test = train_test_split(X, y, test_size = 0.3, random_state = 42)\n",
    "\n",
    "# Fitting Naive Bayes to the Training set\n",
    "classifier = MultinomialNB(alpha=0.1)\n",
    "classifier.fit(X_train, y_train)\n",
    "\n",
    "# Predicting the Test set results\n",
    "y_pred = classifier.predict(X_test)\n",
    "\n",
    "# Making the Confusion Matrix\n",
    "from sklearn.metrics import confusion_matrix\n",
    "cm = confusion_matrix(y_test, y_pred)\n",
    "print (\"Confusion Matrix:\\n\",cm)\n",
    "\n",
    "# Accuracy, Precision and Recall\n",
    "from sklearn.metrics import accuracy_score, precision_score, recall_score\n",
    "score1 = accuracy_score(y_test,y_pred)\n",
    "score2 = precision_score(y_test,y_pred)\n",
    "score3= recall_score(y_test,y_pred)\n",
    "print(\"\\n\")\n",
    "print(\"Accuracy is \",round(score1*100,2),\"%\")\n",
    "print(\"Precision is \",round(score2,2))\n",
    "print(\"Recall is \",round(score3,2))"
   ]
  },
  {
   "cell_type": "code",
   "execution_count": 20,
   "metadata": {},
   "outputs": [],
   "source": [
    "def predict_sentiment(sample_review): \n",
    " sample_review = re.sub(pattern='[^a-zA-Z]',repl=' ', string = sample_review) \n",
    " sample_review = sample_review.lower() \n",
    " sample_review_words = sample_review.split() \n",
    " sample_review_words = [word for word in sample_review_words if not word in set(stopwords.words('english'))] \n",
    " ps = PorterStemmer() \n",
    " final_review = [ps.stem(word) for word in sample_review_words] \n",
    " final_review = ' '.join(final_review) \n",
    " temp = cv.transform([final_review]).toarray() \n",
    " return classifier.predict(temp) "
   ]
  },
  {
   "cell_type": "code",
   "execution_count": 21,
   "metadata": {},
   "outputs": [
    {
     "name": "stdout",
     "output_type": "stream",
     "text": [
      "This is a POSITIVE review.\n"
     ]
    }
   ],
   "source": [
    "s=input()\n",
    "if predict_sentiment(s): \n",
    "    print('This is a POSITIVE review.') \n",
    "else: \n",
    "    print('This is a NEGATIVE review!')"
   ]
  },
  {
   "attachments": {},
   "cell_type": "markdown",
   "metadata": {},
   "source": [
    "AI - 7 : Write a Python program to implement Named Entity recognition"
   ]
  },
  {
   "cell_type": "code",
   "execution_count": 47,
   "metadata": {},
   "outputs": [
    {
     "name": "stderr",
     "output_type": "stream",
     "text": [
      "[nltk_data] Downloading package punkt to\n",
      "[nltk_data]     C:\\Users\\Fuzail\\AppData\\Roaming\\nltk_data...\n",
      "[nltk_data]   Package punkt is already up-to-date!\n",
      "[nltk_data] Downloading package averaged_perceptron_tagger to\n",
      "[nltk_data]     C:\\Users\\Fuzail\\AppData\\Roaming\\nltk_data...\n",
      "[nltk_data]   Package averaged_perceptron_tagger is already up-to-\n",
      "[nltk_data]       date!\n",
      "[nltk_data] Downloading package maxent_ne_chunker to\n",
      "[nltk_data]     C:\\Users\\Fuzail\\AppData\\Roaming\\nltk_data...\n",
      "[nltk_data]   Package maxent_ne_chunker is already up-to-date!\n",
      "[nltk_data] Downloading package words to\n",
      "[nltk_data]     C:\\Users\\Fuzail\\AppData\\Roaming\\nltk_data...\n",
      "[nltk_data]   Package words is already up-to-date!\n"
     ]
    },
    {
     "data": {
      "text/plain": [
       "True"
      ]
     },
     "execution_count": 47,
     "metadata": {},
     "output_type": "execute_result"
    }
   ],
   "source": [
    "import nltk\n",
    "nltk.download('punkt')\n",
    "nltk.download('averaged_perceptron_tagger')\n",
    "nltk.download('maxent_ne_chunker')\n",
    "nltk.download('words')"
   ]
  },
  {
   "cell_type": "code",
   "execution_count": 48,
   "metadata": {},
   "outputs": [],
   "source": [
    "paragraph = \"\"\"Scarface is a 1983 American crime drama film directed by Brian\n",
    "De Palma and written by Oliver Stone. \\\n",
    " Loosely based on the 1929 novel of the same name and serving as a loose\n",
    "remake of the 1932 film,\\\n",
    " it tells the story of Cuban refugee Tony Montana (Al Pacino), \\\n",
    " who arrives penniless in Miami during the Mariel boatlift and becomes a\n",
    "powerful and extremely homicidal drug lord.\\\n",
    " The film co-stars Steven Bauer, Michelle Pfeiffer, Mary Elizabeth Mastrantonio\n",
    "and Robert Loggia.\\\n",
    " De Palma dedicated this version of Scarface to the memories of Howard Hawks\n",
    "and Ben Hecht, \\\n",
    " the writers of the original film.\"\"\""
   ]
  },
  {
   "cell_type": "code",
   "execution_count": 49,
   "metadata": {},
   "outputs": [
    {
     "name": "stdout",
     "output_type": "stream",
     "text": [
      "Scarface                            GPE\n",
      "American                            GPE\n",
      "Brian De Palma                      PERSON\n",
      "Oliver Stone                        PERSON\n",
      "Cuban                               GPE\n",
      "Tony Montana                        PERSON\n",
      "Al Pacino                           PERSON\n",
      "Miami                               GPE\n",
      "Mariel                              ORGANIZATION\n",
      "Steven Bauer                        PERSON\n",
      "Michelle Pfeiffer                   PERSON\n",
      "Mary Elizabeth Mastrantonio         PERSON\n",
      "Robert Loggia                       PERSON\n",
      "De                                  PERSON\n",
      "Palma                               PERSON\n",
      "Scarface                            GPE\n",
      "Howard Hawks                        PERSON\n",
      "Ben Hecht                           PERSON\n"
     ]
    }
   ],
   "source": [
    "for sentence in nltk.sent_tokenize(paragraph):\n",
    "    for chunk in nltk.ne_chunk(nltk.pos_tag(nltk.word_tokenize(sentence))):\n",
    "        if hasattr(chunk, 'label'):\n",
    "            print(f\"{' '.join(c[0] for c in chunk):<35} {chunk.label()}\")"
   ]
  },
  {
   "attachments": {},
   "cell_type": "markdown",
   "metadata": {},
   "source": [
    "AI - 8 : Write a Python program to recognize handwritten numbers from the\n",
    "MNIST dataset using Tensorflow"
   ]
  },
  {
   "cell_type": "code",
   "execution_count": 52,
   "metadata": {},
   "outputs": [],
   "source": [
    "from tensorflow.keras import Sequential\n",
    "from tensorflow.keras.layers import Conv2D, MaxPooling2D, Flatten, Dense, Dropout\n",
    "from tensorflow.keras.datasets import mnist\n",
    "import matplotlib.pyplot as plt\n",
    "import numpy as np\n",
    "import random"
   ]
  },
  {
   "cell_type": "code",
   "execution_count": 53,
   "metadata": {},
   "outputs": [],
   "source": [
    "(X_train, y_train), (X_test, y_test) = mnist.load_data()\n",
    "tem = random.randint(1, 1000)\n",
    "images = X_train[tem]\n",
    "labels = y_train[tem]\n",
    "X_train = X_train.reshape(X_train.shape[0], 28, 28, 1)\n",
    "X_test = X_test.reshape(X_test.shape[0], 28, 28, 1)\n",
    "X_train = X_train.astype('float32') / 255.\n",
    "X_test = X_test.astype('float32') / 255."
   ]
  },
  {
   "cell_type": "code",
   "execution_count": 54,
   "metadata": {},
   "outputs": [
    {
     "name": "stdout",
     "output_type": "stream",
     "text": [
      "Epoch 1/5\n",
      "469/469 [==============================] - 23s 47ms/step - loss: 0.3151 - accuracy: 0.9076 - val_loss: 0.0867 - val_accuracy: 0.9739\n",
      "Epoch 2/5\n",
      "469/469 [==============================] - 19s 40ms/step - loss: 0.1144 - accuracy: 0.9667 - val_loss: 0.0540 - val_accuracy: 0.9817\n",
      "Epoch 3/5\n",
      "469/469 [==============================] - 20s 43ms/step - loss: 0.0853 - accuracy: 0.9742 - val_loss: 0.0503 - val_accuracy: 0.9834\n",
      "Epoch 4/5\n",
      "469/469 [==============================] - 18s 38ms/step - loss: 0.0692 - accuracy: 0.9795 - val_loss: 0.0415 - val_accuracy: 0.9844\n",
      "Epoch 5/5\n",
      "469/469 [==============================] - 19s 41ms/step - loss: 0.0585 - accuracy: 0.9825 - val_loss: 0.0414 - val_accuracy: 0.9855\n",
      "Test loss: 0.04141122102737427\n",
      "Test accuracy: 0.9854999780654907\n",
      "313/313 [==============================] - 1s 4ms/step\n"
     ]
    }
   ],
   "source": [
    "model = Sequential([\n",
    " Conv2D(32, kernel_size=(3, 3), activation='relu', input_shape=(28, 28, 1)),\n",
    " MaxPooling2D(pool_size=(2, 2)),\n",
    " Flatten(),\n",
    " Dense(128, activation='relu'),\n",
    " Dropout(0.5),\n",
    " Dense(10, activation='softmax')\n",
    "])\n",
    "model.compile(loss='sparse_categorical_crossentropy', optimizer='adam',\n",
    "metrics=['accuracy'])\n",
    "model.fit(X_train, y_train, batch_size=128, epochs=5, verbose=1,\n",
    "validation_data=(X_test, y_test))\n",
    "score = model.evaluate(X_test, y_test, verbose=0)\n",
    "print('Test loss:', score[0])\n",
    "print('Test accuracy:', score[1])\n",
    "predictions = model.predict(X_test)"
   ]
  },
  {
   "cell_type": "code",
   "execution_count": 55,
   "metadata": {},
   "outputs": [
    {
     "name": "stdout",
     "output_type": "stream",
     "text": [
      "1/1 [==============================] - 0s 54ms/step\n"
     ]
    },
    {
     "data": {
      "image/png": "[encoded data removed]",
      "text/plain": [
       "<Figure size 640x480 with 1 Axes>"
      ]
     },
     "metadata": {},
     "output_type": "display_data"
    },
    {
     "name": "stdout",
     "output_type": "stream",
     "text": [
      " The model has predicted that the image is of the number 7.\n"
     ]
    }
   ],
   "source": [
    "x = model.predict(images.reshape(1, 28, 28, 1))\n",
    "plt.imshow(images)\n",
    "plt.show()\n",
    "np.argmax(x, axis=1)\n",
    "number = np.where(x==1.)[1]\n",
    "number = str(number).lstrip('[').rstrip(']')\n",
    "print(f' The model has predicted that the image is of the number {number}.')"
   ]
  },
  {
   "cell_type": "code",
   "execution_count": 23,
   "metadata": {},
   "outputs": [
    {
     "name": "stdout",
     "output_type": "stream",
     "text": [
      "Epoch 1/5\n",
      "1875/1875 [==============================] - 5s 3ms/step - loss: 0.2594 - accuracy: 0.9254\n",
      "Epoch 2/5\n",
      "1875/1875 [==============================] - 4s 2ms/step - loss: 0.1174 - accuracy: 0.9657\n",
      "Epoch 3/5\n",
      "1875/1875 [==============================] - 4s 2ms/step - loss: 0.0816 - accuracy: 0.9761\n",
      "Epoch 4/5\n",
      "1875/1875 [==============================] - 4s 2ms/step - loss: 0.0610 - accuracy: 0.9816\n",
      "Epoch 5/5\n",
      "1875/1875 [==============================] - 5s 2ms/step - loss: 0.0473 - accuracy: 0.9856\n",
      "313/313 - 0s - loss: 0.0727 - accuracy: 0.9763 - 440ms/epoch - 1ms/step\n",
      "1/1 [==============================] - 0s 65ms/step\n"
     ]
    },
    {
     "data": {
      "image/png": "[encoded data removed]",
      "text/plain": [
       "<Figure size 640x480 with 1 Axes>"
      ]
     },
     "metadata": {},
     "output_type": "display_data"
    }
   ],
   "source": [
    "import tensorflow as tf\n",
    "import matplotlib.pyplot as plt\n",
    "\n",
    "# Load MNIST dataset\n",
    "mnist = tf.keras.datasets.mnist\n",
    "(x_train, y_train), (x_test, y_test) = mnist.load_data()\n",
    "\n",
    "# Normalize pixel values\n",
    "x_train, x_test = x_train / 255.0, x_test / 255.0\n",
    "\n",
    "# Define the model\n",
    "model = tf.keras.models.Sequential([\n",
    "    tf.keras.layers.Flatten(input_shape=(28, 28)),\n",
    "    tf.keras.layers.Dense(128, activation='relu'),\n",
    "    tf.keras.layers.Dense(10, activation='softmax')\n",
    "])\n",
    "\n",
    "# Compile and train the model\n",
    "model.compile(optimizer='adam',\n",
    "              loss='sparse_categorical_crossentropy',\n",
    "              metrics=['accuracy'])\n",
    "model.fit(x_train, y_train, epochs=5)\n",
    "\n",
    "# Evaluate the model\n",
    "model.evaluate(x_test, y_test, verbose=2)\n",
    "\n",
    "# Display a sample image and its predicted label\n",
    "sample_image = x_test[0]\n",
    "sample_label = y_test[0]\n",
    "\n",
    "prediction = model.predict(tf.expand_dims(sample_image, 0))\n",
    "predicted_label = tf.argmax(prediction[0]).numpy()\n",
    "\n",
    "plt.imshow(sample_image)\n",
    "plt.title(f\"True label: {sample_label}, Predicted label: {predicted_label}\")\n",
    "plt.show()"
   ]
  },
  {
   "cell_type": "code",
   "execution_count": null,
   "metadata": {},
   "outputs": [],
   "source": []
  }
 ],
 "metadata": {
  "kernelspec": {
   "display_name": "Python 3",
   "language": "python",
   "name": "python3"
  },
  "language_info": {
   "codemirror_mode": {
    "name": "ipython",
    "version": 3
   },
   "file_extension": ".py",
   "mimetype": "text/x-python",
   "name": "python",
   "nbconvert_exporter": "python",
   "pygments_lexer": "ipython3",
   "version": "3.11.4"
  },
  "orig_nbformat": 4
 },
 "nbformat": 4,
 "nbformat_minor": 2
}
